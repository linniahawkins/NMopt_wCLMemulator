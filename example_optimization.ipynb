{
 "cells": [
  {
   "cell_type": "code",
   "execution_count": 21,
   "id": "2ba99753-488e-404d-8fef-4a36c43bfde6",
   "metadata": {},
   "outputs": [],
   "source": [
    "import numpy as np\n",
    "import pandas as pd\n",
    "import tensorflow as tf\n",
    "from scipy.optimize import minimize"
   ]
  },
  {
   "cell_type": "code",
   "execution_count": 52,
   "id": "48d75256-3112-4da7-84f0-5aa9bbcc1609",
   "metadata": {},
   "outputs": [],
   "source": [
    "### set up\n",
    "lai_emulator = tf.saved_model.load('./emulators/laimax_gmean/')\n",
    "gpp_emulator = tf.saved_model.load('./emulators/gpp_gmean/')\n",
    "biomass_emulator = tf.saved_model.load('./emulators/biomass_gmean/')\n",
    "\n",
    "# input params\n",
    "lhckey = './utils/lhc220926.txt'\n",
    "ppe_params = pd.read_csv(lhckey).drop(columns='member')\n",
    "\n",
    "tuning_params = ['FUN_fracfixers','froot_leaf','jmaxb0','jmaxb1','kmax','leafcn','medlynintercept','medlynslope','slatop','wc2wjb0']\n",
    "num_params = len(tuning_params)\n"
   ]
  },
  {
   "cell_type": "code",
   "execution_count": 53,
   "id": "419256c7-ee5e-46e7-a247-5020dc36fa25",
   "metadata": {},
   "outputs": [],
   "source": [
    "# set up perfect model experiment; try to recover a known parameter set\n",
    "target_paramset = ppe_params.iloc[13]\n",
    "\n",
    "target_lai = lai_emulator.compiled_predict_f(target_paramset.values.reshape(1, -1))[0].numpy().flatten()[0]\n",
    "target_gpp = gpp_emulator.compiled_predict_f(test_paramset.values.reshape(1, -1))[0].numpy().flatten()[0]\n",
    "target_biomass = biomass_emulator.compiled_predict_f(test_paramset.values.reshape(1, -1))[0].numpy().flatten()[0]"
   ]
  },
  {
   "cell_type": "markdown",
   "id": "9b372ae3-136b-4593-a983-b7fd85a5edcf",
   "metadata": {
    "jp-MarkdownHeadingCollapsed": true
   },
   "source": [
    "### Scipy optimize"
   ]
  },
  {
   "cell_type": "code",
   "execution_count": 56,
   "id": "82d46527-6848-48d1-846d-23ad8188d1dc",
   "metadata": {},
   "outputs": [],
   "source": [
    "def objective(x):\n",
    "    sample = target_paramset.copy()\n",
    "    sample[tuning_params] = x\n",
    "\n",
    "    lai = lai_emulator.compiled_predict_f(sample.values.reshape(1, -1))[0].numpy().flatten()[0]\n",
    "    gpp = gpp_emulator.compiled_predict_f(sample.values.reshape(1, -1))[0].numpy().flatten()[0]\n",
    "    biomass = biomass_emulator.compiled_predict_f(sample.values.reshape(1, -1))[0].numpy().flatten()[0]\n",
    "\n",
    "    # Scaled squared errors\n",
    "    loss_lai = ((lai - target_lai) / target_lai)**2\n",
    "    loss_gpp = ((gpp - target_gpp) / target_gpp)**2\n",
    "    loss_biomass = ((biomass - target_biomass) / target_biomass)**2\n",
    "\n",
    "    return loss_lai + loss_gpp + loss_biomass"
   ]
  },
  {
   "cell_type": "code",
   "execution_count": 61,
   "id": "21e90a72-5961-4ad5-a5ed-68e0286ded91",
   "metadata": {},
   "outputs": [],
   "source": [
    "# Initial guess\n",
    "x0 = np.random.rand(num_params)\n",
    "\n",
    "# Bounds for each parameter in [0, 1]\n",
    "bounds = [(0, 1)] * num_params\n",
    "\n",
    "# Run optimization with L-BFGS-B\n",
    "result = minimize(objective, x0, method='L-BFGS-B', bounds=bounds)\n",
    "\n",
    "# Run optimization with Nelder-Mead methodology\n",
    "#result = minimize(objective, x0, method='Nelder-Mead')"
   ]
  },
  {
   "cell_type": "code",
   "execution_count": 62,
   "id": "d7d338c6-7f6f-47ca-ab77-83a2788a4d25",
   "metadata": {},
   "outputs": [
    {
     "name": "stdout",
     "output_type": "stream",
     "text": [
      "True LAI: 1.6622059365545285 Recovered LAI: 1.7416256751908736\n",
      "True GPP: 152.19816441369932 Recovered GPP: 140.11932314245342\n",
      "True Biomass: 806.8224757298698 Recovered Biomass: 786.5253101254951\n",
      "Recovered - true parameters: FUN_fracfixers     0.934146\n",
      "froot_leaf         0.216624\n",
      "jmaxb0             0.134356\n",
      "jmaxb1            -0.317099\n",
      "kmax              -0.076611\n",
      "leafcn             0.071293\n",
      "medlynintercept    0.387956\n",
      "medlynslope       -0.838060\n",
      "slatop            -0.341671\n",
      "wc2wjb0            0.084596\n",
      "Name: 13, dtype: float64\n"
     ]
    }
   ],
   "source": [
    "# check\n",
    "recovered_sample = target_paramset.copy()\n",
    "recovered_sample[tuning_params] = result.x\n",
    "\n",
    "recovered_lai = lai_emulator.compiled_predict_f(recovered_sample.values.reshape(1, -1))[0].numpy().flatten()[0]\n",
    "recovered_gpp = gpp_emulator.compiled_predict_f(recovered_sample.values.reshape(1, -1))[0].numpy().flatten()[0]\n",
    "recovered_biomass = biomass_emulator.compiled_predict_f(recovered_sample.values.reshape(1, -1))[0].numpy().flatten()[0]\n",
    "\n",
    "print(\"True LAI:\", target_lai, \"Recovered LAI:\", recovered_lai)\n",
    "print(\"True GPP:\", target_gpp, \"Recovered GPP:\", recovered_gpp)\n",
    "print(\"True Biomass:\", target_biomass, \"Recovered Biomass:\", recovered_biomass)\n",
    "print(\"Recovered - true parameters:\", result.x - target_paramset[tuning_params])\n"
   ]
  },
  {
   "cell_type": "markdown",
   "id": "352e7b16-8586-4cb4-8cdc-ff199870b1b3",
   "metadata": {},
   "source": [
    "### Tensorflow ADAM optimization"
   ]
  },
  {
   "cell_type": "code",
   "execution_count": 64,
   "id": "0742b405-b0e9-486c-9a34-2414816c4aaa",
   "metadata": {},
   "outputs": [],
   "source": [
    "# Convert target values to tensors for use in loss\n",
    "target_tensor = tf.constant([target_lai, target_gpp, target_biomass], dtype=tf.float32)"
   ]
  },
  {
   "cell_type": "code",
   "execution_count": 63,
   "id": "d1adc373-001b-4f80-876a-713b6671c395",
   "metadata": {},
   "outputs": [],
   "source": [
    "# Initialize optimization\n",
    "x = tf.Variable(np.random.rand(num_params), dtype=tf.float32)\n",
    "optimizer = tf.keras.optimizers.Adam(learning_rate=0.05)"
   ]
  },
  {
   "cell_type": "code",
   "execution_count": 78,
   "id": "71b5954b-eb14-4305-94b8-f83c0cd07245",
   "metadata": {},
   "outputs": [],
   "source": [
    "# Optimization loop\n",
    "def get_loss_and_grads():\n",
    "    with tf.GradientTape() as tape:\n",
    "        sample_array = target_paramset.values.copy()\n",
    "        for i, param in enumerate(tuning_params):\n",
    "            idx = ppe_params.columns.get_loc(param)\n",
    "            sample_array[idx] = x[i]\n",
    "\n",
    "        full_input = tf.convert_to_tensor(sample_array.reshape(1, -1), dtype=tf.float64)\n",
    "\n",
    "        lai = lai_emulator.compiled_predict_f(full_input)[0][0, 0]\n",
    "        gpp = gpp_emulator.compiled_predict_f(full_input)[0][0, 0]\n",
    "        biomass = biomass_emulator.compiled_predict_f(full_input)[0][0, 0]\n",
    "\n",
    "        preds = tf.stack([lai, gpp, biomass])\n",
    "        loss = tf.reduce_sum(tf.square((preds - target_tensor) / target_tensor))\n",
    "    grads = tape.gradient(loss, [x])\n",
    "    return loss, grads"
   ]
  },
  {
   "cell_type": "code",
   "execution_count": 79,
   "id": "c380af54-720f-4e86-b588-d95851e360af",
   "metadata": {},
   "outputs": [
    {
     "ename": "InvalidArgumentError",
     "evalue": "cannot compute Sub as input #1(zero-based) was expected to be a double tensor but is a float tensor [Op:Sub] name: ",
     "output_type": "error",
     "traceback": [
      "\u001b[0;31m---------------------------------------------------------------------------\u001b[0m",
      "\u001b[0;31mInvalidArgumentError\u001b[0m                      Traceback (most recent call last)",
      "Cell \u001b[0;32mIn[79], line 2\u001b[0m\n\u001b[1;32m      1\u001b[0m \u001b[38;5;28;01mfor\u001b[39;00m step \u001b[38;5;129;01min\u001b[39;00m \u001b[38;5;28mrange\u001b[39m(\u001b[38;5;241m200\u001b[39m):\n\u001b[0;32m----> 2\u001b[0m     loss, grads \u001b[38;5;241m=\u001b[39m \u001b[43mget_loss_and_grads\u001b[49m\u001b[43m(\u001b[49m\u001b[43m)\u001b[49m\n\u001b[1;32m      3\u001b[0m     optimizer\u001b[38;5;241m.\u001b[39mapply_gradients(\u001b[38;5;28mzip\u001b[39m(grads, [x]))\n\u001b[1;32m      4\u001b[0m     x\u001b[38;5;241m.\u001b[39massign(tf\u001b[38;5;241m.\u001b[39mclip_by_value(x, \u001b[38;5;241m0.0\u001b[39m, \u001b[38;5;241m1.0\u001b[39m))  \u001b[38;5;66;03m# enforce bounds manually\u001b[39;00m\n",
      "Cell \u001b[0;32mIn[78], line 16\u001b[0m, in \u001b[0;36mget_loss_and_grads\u001b[0;34m()\u001b[0m\n\u001b[1;32m     13\u001b[0m     biomass \u001b[38;5;241m=\u001b[39m biomass_emulator\u001b[38;5;241m.\u001b[39mcompiled_predict_f(full_input)[\u001b[38;5;241m0\u001b[39m][\u001b[38;5;241m0\u001b[39m, \u001b[38;5;241m0\u001b[39m]\n\u001b[1;32m     15\u001b[0m     preds \u001b[38;5;241m=\u001b[39m tf\u001b[38;5;241m.\u001b[39mstack([lai, gpp, biomass])\n\u001b[0;32m---> 16\u001b[0m     loss \u001b[38;5;241m=\u001b[39m tf\u001b[38;5;241m.\u001b[39mreduce_sum(tf\u001b[38;5;241m.\u001b[39msquare((\u001b[43mpreds\u001b[49m\u001b[43m \u001b[49m\u001b[38;5;241;43m-\u001b[39;49m\u001b[43m \u001b[49m\u001b[43mtarget_tensor\u001b[49m) \u001b[38;5;241m/\u001b[39m target_tensor))\n\u001b[1;32m     17\u001b[0m grads \u001b[38;5;241m=\u001b[39m tape\u001b[38;5;241m.\u001b[39mgradient(loss, [x])\n\u001b[1;32m     18\u001b[0m \u001b[38;5;28;01mreturn\u001b[39;00m loss, grads\n",
      "File \u001b[0;32m/glade/work/linnia/conda-envs/mlenv/lib/python3.10/site-packages/tensorflow/python/util/traceback_utils.py:153\u001b[0m, in \u001b[0;36mfilter_traceback.<locals>.error_handler\u001b[0;34m(*args, **kwargs)\u001b[0m\n\u001b[1;32m    151\u001b[0m \u001b[38;5;28;01mexcept\u001b[39;00m \u001b[38;5;167;01mException\u001b[39;00m \u001b[38;5;28;01mas\u001b[39;00m e:\n\u001b[1;32m    152\u001b[0m   filtered_tb \u001b[38;5;241m=\u001b[39m _process_traceback_frames(e\u001b[38;5;241m.\u001b[39m__traceback__)\n\u001b[0;32m--> 153\u001b[0m   \u001b[38;5;28;01mraise\u001b[39;00m e\u001b[38;5;241m.\u001b[39mwith_traceback(filtered_tb) \u001b[38;5;28;01mfrom\u001b[39;00m\u001b[38;5;250m \u001b[39m\u001b[38;5;28;01mNone\u001b[39;00m\n\u001b[1;32m    154\u001b[0m \u001b[38;5;28;01mfinally\u001b[39;00m:\n\u001b[1;32m    155\u001b[0m   \u001b[38;5;28;01mdel\u001b[39;00m filtered_tb\n",
      "File \u001b[0;32m/glade/work/linnia/conda-envs/mlenv/lib/python3.10/site-packages/tensorflow/python/framework/ops.py:6002\u001b[0m, in \u001b[0;36mraise_from_not_ok_status\u001b[0;34m(e, name)\u001b[0m\n\u001b[1;32m   6000\u001b[0m \u001b[38;5;28;01mdef\u001b[39;00m\u001b[38;5;250m \u001b[39m\u001b[38;5;21mraise_from_not_ok_status\u001b[39m(e, name) \u001b[38;5;241m-\u001b[39m\u001b[38;5;241m>\u001b[39m NoReturn:\n\u001b[1;32m   6001\u001b[0m   e\u001b[38;5;241m.\u001b[39mmessage \u001b[38;5;241m+\u001b[39m\u001b[38;5;241m=\u001b[39m (\u001b[38;5;124m\"\u001b[39m\u001b[38;5;124m name: \u001b[39m\u001b[38;5;124m\"\u001b[39m \u001b[38;5;241m+\u001b[39m \u001b[38;5;28mstr\u001b[39m(name \u001b[38;5;28;01mif\u001b[39;00m name \u001b[38;5;129;01mis\u001b[39;00m \u001b[38;5;129;01mnot\u001b[39;00m \u001b[38;5;28;01mNone\u001b[39;00m \u001b[38;5;28;01melse\u001b[39;00m \u001b[38;5;124m\"\u001b[39m\u001b[38;5;124m\"\u001b[39m))\n\u001b[0;32m-> 6002\u001b[0m   \u001b[38;5;28;01mraise\u001b[39;00m core\u001b[38;5;241m.\u001b[39m_status_to_exception(e) \u001b[38;5;28;01mfrom\u001b[39;00m\u001b[38;5;250m \u001b[39m\u001b[38;5;28;01mNone\u001b[39;00m\n",
      "\u001b[0;31mInvalidArgumentError\u001b[0m: cannot compute Sub as input #1(zero-based) was expected to be a double tensor but is a float tensor [Op:Sub] name: "
     ]
    }
   ],
   "source": [
    "for step in range(200):\n",
    "    loss, grads = get_loss_and_grads()\n",
    "    optimizer.apply_gradients(zip(grads, [x]))\n",
    "    x.assign(tf.clip_by_value(x, 0.0, 1.0))  # enforce bounds manually\n",
    "    if step % 20 == 0:\n",
    "        print(f\"Step {step}: Loss = {loss.numpy():.6f}\")"
   ]
  },
  {
   "cell_type": "code",
   "execution_count": null,
   "id": "39c2a240-dd67-4619-b067-a6019c0182f5",
   "metadata": {},
   "outputs": [],
   "source": []
  }
 ],
 "metadata": {
  "kernelspec": {
   "display_name": "Python [conda env:mlenv]",
   "language": "python",
   "name": "conda-env-mlenv-py"
  },
  "language_info": {
   "codemirror_mode": {
    "name": "ipython",
    "version": 3
   },
   "file_extension": ".py",
   "mimetype": "text/x-python",
   "name": "python",
   "nbconvert_exporter": "python",
   "pygments_lexer": "ipython3",
   "version": "3.10.16"
  }
 },
 "nbformat": 4,
 "nbformat_minor": 5
}
