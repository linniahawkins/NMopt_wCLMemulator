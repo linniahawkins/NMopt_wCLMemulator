{
 "cells": [
  {
   "cell_type": "code",
   "execution_count": 1,
   "id": "6d2e7901-62b5-45a1-b808-2b00afcb7360",
   "metadata": {},
   "outputs": [
    {
     "name": "stderr",
     "output_type": "stream",
     "text": [
      "2025-02-07 10:27:50.591390: I tensorflow/core/util/port.cc:153] oneDNN custom operations are on. You may see slightly different numerical results due to floating-point round-off errors from different computation orders. To turn them off, set the environment variable `TF_ENABLE_ONEDNN_OPTS=0`.\n",
      "2025-02-07 10:27:50.627278: E external/local_xla/xla/stream_executor/cuda/cuda_fft.cc:477] Unable to register cuFFT factory: Attempting to register factory for plugin cuFFT when one has already been registered\n",
      "WARNING: All log messages before absl::InitializeLog() is called are written to STDERR\n",
      "E0000 00:00:1738949270.659505   45034 cuda_dnn.cc:8310] Unable to register cuDNN factory: Attempting to register factory for plugin cuDNN when one has already been registered\n",
      "E0000 00:00:1738949270.670300   45034 cuda_blas.cc:1418] Unable to register cuBLAS factory: Attempting to register factory for plugin cuBLAS when one has already been registered\n",
      "2025-02-07 10:27:50.714544: I tensorflow/core/platform/cpu_feature_guard.cc:210] This TensorFlow binary is optimized to use available CPU instructions in performance-critical operations.\n",
      "To enable the following instructions: AVX2 AVX512F AVX512_VNNI FMA, in other operations, rebuild TensorFlow with the appropriate compiler flags.\n"
     ]
    }
   ],
   "source": [
    "import numpy as np\n",
    "import pandas as pd\n",
    "import xarray as xr\n",
    "import matplotlib\n",
    "import matplotlib.pyplot as plt\n",
    "import os\n",
    "import pickle\n",
    "import gpflow\n",
    "import tensorflow as tf\n",
    "from sklearn.metrics import r2_score\n",
    "\n",
    "import warnings\n",
    "warnings.filterwarnings(\"ignore\")"
   ]
  },
  {
   "cell_type": "code",
   "execution_count": 2,
   "id": "567a1e1c-209e-47d5-8e9d-0091e81e699f",
   "metadata": {},
   "outputs": [],
   "source": [
    "import sys\n",
    "sys.path.append('/glade/u/home/linnia/ctsm6_ppe/')\n",
    "from utils.pyfunctions import *\n",
    "utils_path = '/glade/u/home/linnia/ctsm6_ppe/utils/'"
   ]
  },
  {
   "cell_type": "code",
   "execution_count": 7,
   "id": "1fc4625e-b501-4123-a89d-095a72113284",
   "metadata": {},
   "outputs": [],
   "source": [
    "# spin up some extra cores for loading data\n",
    "import dask\n",
    "from dask_jobqueue import PBSCluster\n",
    "from dask.distributed import Client\n",
    "ncores=1\n",
    "nmem='10GB'\n",
    "cluster = PBSCluster(\n",
    "    cores=ncores, # The number of cores you want\n",
    "    memory=nmem, # Amount of memory\n",
    "    processes=1, # How many processes\n",
    "    queue='casper', # The type of queue to utilize (/glade/u/apps/dav/opt/usr/bin/execcasper)\n",
    "    local_directory='$TMPDIR', # Use your local directory\n",
    "    resource_spec='select=1:ncpus='+str(ncores)+':mem='+nmem, # Specify resources\n",
    "    account='P93300041', # Input your project ID here\n",
    "    walltime='01:00:00', # Amount of wall time\n",
    "    #interface='ib0', # Interface to use\n",
    ")\n",
    "\n",
    "# Scale up\n",
    "cluster.scale(5)\n",
    "\n",
    "# Setup your client\n",
    "client = Client(cluster)"
   ]
  },
  {
   "cell_type": "markdown",
   "id": "92a3537b-edb0-4842-9b9f-f47be47ef316",
   "metadata": {},
   "source": [
    "### Load data"
   ]
  },
  {
   "cell_type": "code",
   "execution_count": 36,
   "id": "de246a7d-e755-4951-aa7a-1c6ade7078c6",
   "metadata": {},
   "outputs": [],
   "source": [
    "# load observational data\n",
    "landarea = xr.open_dataset('/glade/work/linnia/CLM51-SP/LAI_SP_ctsm51d115.clm2.h0.2000-02-01-00000.nc')\n",
    "la = landarea.area*landarea.landfrac\n",
    "\n",
    "in_files = ['/glade/work/linnia/datasets/GIMMS_LAI4g/GIMMS_LAI4g_V1.2_regridded/GIMMS_LAI4g_V1.2_2degbilinear_1982-2020_123124.nc',\n",
    "            '/glade/work/linnia/datasets/GLASS/GLASS01J01.V60.2degBilinear_2001-2021_interp.nc',\n",
    "            '/glade/work/linnia/datasets/GLOBMAP/GlobMapLAIV3_regridded/GlobMapLAIV3_2deg_2000-2020.nc']\n",
    "\n",
    "obs_lai_gmean_amax = np.empty(len(in_files))\n",
    "for i,filename in enumerate(in_files):\n",
    "    ds = xr.open_dataset(filename)\n",
    "    data = ds.sel(time=slice('2001','2020'))\n",
    "    da = amax(data.LAI).mean(dim='year')\n",
    "\n",
    "    obs_lai_gmean_amax[i] = (1/la.sum()*(la*da).sum().values)"
   ]
  },
  {
   "cell_type": "code",
   "execution_count": 38,
   "id": "06087268-c6a1-4ec4-8103-7ab18adedddf",
   "metadata": {},
   "outputs": [
    {
     "data": {
      "text/plain": [
       "array([2.32782508, 1.73065793, 1.55240552])"
      ]
     },
     "execution_count": 38,
     "metadata": {},
     "output_type": "execute_result"
    }
   ],
   "source": [
    "obs_lai_gmean_amax"
   ]
  },
  {
   "cell_type": "code",
   "execution_count": 39,
   "id": "2b44ffc3-fbc8-4756-833f-574913ac89e9",
   "metadata": {},
   "outputs": [],
   "source": [
    "# get LHC PPE parameter sets \n",
    "lhckey = '/glade/campaign/asp/djk2120/PPEn11/csvs/lhc220926.txt'\n",
    "ppe_params = pd.read_csv(lhckey).drop(columns='member')\n",
    "num_params = len(ppe_params.columns)"
   ]
  },
  {
   "cell_type": "code",
   "execution_count": 43,
   "id": "9e159e4d-9c18-4f15-9442-682350e10eca",
   "metadata": {},
   "outputs": [],
   "source": [
    "# load Latin hypercube ensemble\n",
    "dvs = ['TLAI']\n",
    "htape='h0'\n",
    "ds=get_ds(dvs,htape,yr0=2001,yr1=2020)"
   ]
  },
  {
   "cell_type": "code",
   "execution_count": 44,
   "id": "6b86411f-6d50-43cd-852a-6c5f6d4c8c4f",
   "metadata": {},
   "outputs": [],
   "source": [
    "# calc global mean anual maximum LAI\n",
    "lai=gmean(amax(ds.TLAI).mean(dim='year'),ds.la)"
   ]
  },
  {
   "cell_type": "code",
   "execution_count": 54,
   "id": "99853dda-4bea-40d2-a8aa-cd964911de3b",
   "metadata": {},
   "outputs": [
    {
     "data": {
      "text/plain": [
       "Text(0, 0.5, '# of ensemble members')"
      ]
     },
     "execution_count": 54,
     "metadata": {},
     "output_type": "execute_result"
    },
    {
     "data": {
      "image/png": "[encoded data removed]",
      "text/plain": [
       "<Figure size 640x480 with 1 Axes>"
      ]
     },
     "metadata": {},
     "output_type": "display_data"
    }
   ],
   "source": [
    "plt.hist(lai,color='lightgrey')\n",
    "plt.axvline(lai.isel(ens=0).values,c='k',label='CLM-default')\n",
    "plt.axvline(np.mean(obs_lai_gmean_amax),c='green',label='observational target')\n",
    "plt.axvspan(np.min(obs_lai_gmean_amax),np.max(obs_lai_gmean_amax),color='green',alpha=0.4,label='observational tolerance')\n",
    "plt.xlabel('Global mean annual max LAI')\n",
    "plt.ylabel('# of ensemble members')"
   ]
  },
  {
   "cell_type": "code",
   "execution_count": 60,
   "id": "4959c8eb-181c-4a10-a8df-d9302c59a5e8",
   "metadata": {},
   "outputs": [
    {
     "data": {
      "text/plain": [
       "14"
      ]
     },
     "execution_count": 60,
     "metadata": {},
     "output_type": "execute_result"
    }
   ],
   "source": [
    "# the best parameter set index is:\n",
    "best_ix = np.argmin(np.abs(lai.values-np.mean(obs_lai_gmean_amax)))\n",
    "best_ix"
   ]
  },
  {
   "cell_type": "markdown",
   "id": "a10f25f1-b6ad-4b38-a981-764b585c97e2",
   "metadata": {},
   "source": [
    "### Train emulator "
   ]
  },
  {
   "cell_type": "code",
   "execution_count": 46,
   "id": "6f341cb0-c0f5-480d-a359-d08179185928",
   "metadata": {},
   "outputs": [],
   "source": [
    "kernel_dict = build_kernel_dict(num_params)"
   ]
  },
  {
   "cell_type": "code",
   "execution_count": 61,
   "id": "3591b65b-faf7-4936-9834-bb1e987db544",
   "metadata": {},
   "outputs": [
    {
     "name": "stdout",
     "output_type": "stream",
     "text": [
      "saving\n",
      "INFO:tensorflow:Assets written to: ../emulators/laimax_gmean/assets\n"
     ]
    },
    {
     "name": "stderr",
     "output_type": "stream",
     "text": [
      "INFO:tensorflow:Assets written to: ../emulators/laimax_gmean/assets\n"
     ]
    },
    {
     "data": {
      "image/png": "[encoded data removed]",
      "text/plain": [
       "<Figure size 640x480 with 1 Axes>"
      ]
     },
     "metadata": {},
     "output_type": "display_data"
    }
   ],
   "source": [
    "# Train and save emulator\n",
    "\n",
    "savedir = str('../emulators/laimax_gmean') # where to save emulator\n",
    "outfile = '../figs/emulator_validation_laimax_gmean.png' # validation figure\n",
    "\n",
    "ntest = 50\n",
    "X = ppe_params.values\n",
    "Y = lai[1:]\n",
    "X_test, X_train = X[:ntest,:], X[ntest:,:]\n",
    "y_test, y_train = Y[:ntest].values.reshape(-1,1), Y[ntest:].values.reshape(-1,1)\n",
    "\n",
    "best_kernel = select_kernel(kernel_dict,X_train,X_test,y_train,y_test)\n",
    "R2_score, stdev = train_val_save(X_train,X_test,y_train,y_test,best_kernel,outfile,savedir)"
   ]
  },
  {
   "cell_type": "code",
   "execution_count": null,
   "id": "c3149dfe-1310-4973-9668-afee34030f70",
   "metadata": {},
   "outputs": [],
   "source": []
  }
 ],
 "metadata": {
  "kernelspec": {
   "display_name": "Python [conda env:mlenv]",
   "language": "python",
   "name": "conda-env-mlenv-py"
  },
  "language_info": {
   "codemirror_mode": {
    "name": "ipython",
    "version": 3
   },
   "file_extension": ".py",
   "mimetype": "text/x-python",
   "name": "python",
   "nbconvert_exporter": "python",
   "pygments_lexer": "ipython3",
   "version": "3.10.16"
  }
 },
 "nbformat": 4,
 "nbformat_minor": 5
}
