{
 "cells": [
  {
   "cell_type": "code",
   "execution_count": 1,
   "id": "2ba99753-488e-404d-8fef-4a36c43bfde6",
   "metadata": {},
   "outputs": [
    {
     "name": "stderr",
     "output_type": "stream",
     "text": [
      "2025-02-17 08:51:34.466128: I tensorflow/core/util/port.cc:153] oneDNN custom operations are on. You may see slightly different numerical results due to floating-point round-off errors from different computation orders. To turn them off, set the environment variable `TF_ENABLE_ONEDNN_OPTS=0`.\n",
      "2025-02-17 08:51:34.544997: E external/local_xla/xla/stream_executor/cuda/cuda_fft.cc:477] Unable to register cuFFT factory: Attempting to register factory for plugin cuFFT when one has already been registered\n",
      "WARNING: All log messages before absl::InitializeLog() is called are written to STDERR\n",
      "E0000 00:00:1739807494.565780   65447 cuda_dnn.cc:8310] Unable to register cuDNN factory: Attempting to register factory for plugin cuDNN when one has already been registered\n",
      "E0000 00:00:1739807494.571427   65447 cuda_blas.cc:1418] Unable to register cuBLAS factory: Attempting to register factory for plugin cuBLAS when one has already been registered\n",
      "2025-02-17 08:51:34.595745: I tensorflow/core/platform/cpu_feature_guard.cc:210] This TensorFlow binary is optimized to use available CPU instructions in performance-critical operations.\n",
      "To enable the following instructions: AVX2 AVX512F AVX512_VNNI FMA, in other operations, rebuild TensorFlow with the appropriate compiler flags.\n"
     ]
    }
   ],
   "source": [
    "import numpy as np\n",
    "import pandas as pd\n",
    "import tensorflow as tf"
   ]
  },
  {
   "cell_type": "code",
   "execution_count": 15,
   "id": "d6f1b0aa-8bf1-4e87-b543-f2749762ef20",
   "metadata": {},
   "outputs": [],
   "source": [
    "def callCLM(params,ix,path):\n",
    "    # initialize sample with default CLM parameter set\n",
    "    sample = np.array([0.8737026 , 0.14630213, 0.37171737, 0.27391456, 0.46666708,\n",
    "       0.51924798, 0.46736367, 0.68843046, 0.61951923, 0.07068093,\n",
    "       0.23517169, 0.17849673, 0.83990038, 0.10616273, 0.44688065,\n",
    "       0.57367004, 0.30371528, 0.91975309, 0.71671051, 0.51094701,\n",
    "       0.61565899, 0.26983746, 0.93698915, 0.02468359, 0.05703913,\n",
    "       0.61071442, 0.461464  , 0.11014087, 0.71658162, 0.99813995,\n",
    "       0.19665675, 0.71452042])\n",
    "\n",
    "    sample[ix] = params\n",
    "    \n",
    "    loaded_emulator = tf.saved_model.load(path)\n",
    "    y_pred, y_pred_var = loaded_emulator.predict(sample.reshape(1,-1))\n",
    "    \n",
    "    return y_pred.numpy().flatten()"
   ]
  },
  {
   "cell_type": "code",
   "execution_count": 16,
   "id": "236a0a23-8581-4ea8-9bda-30e0e988e000",
   "metadata": {},
   "outputs": [],
   "source": [
    "# get LHC PPE parameter sets \n",
    "lhckey = './utils/lhc220926.txt'\n",
    "ppe_params = pd.read_csv(lhckey).drop(columns='member')"
   ]
  },
  {
   "cell_type": "code",
   "execution_count": 17,
   "id": "29d7c11f-2264-49cf-add6-c014198a0af5",
   "metadata": {},
   "outputs": [],
   "source": [
    "tuning_params = ['FUN_fracfixers','froot_leaf','jmaxb0','jmaxb1','kmax','leafcn','medlynintercept','medlynslope','slatop','wc2wjb0']"
   ]
  },
  {
   "cell_type": "code",
   "execution_count": 20,
   "id": "07f2ef04-9fee-4ca3-b95a-2ac97cba135d",
   "metadata": {},
   "outputs": [],
   "source": [
    "num_params = len(tuning_params)\n",
    "params = np.random.rand(1, num_params)\n",
    "ix = [ppe_params.columns.get_loc(col) for col in tuning_params]\n",
    "\n",
    "emulator_path = './emulators/laimax_gmean/'\n",
    "laimax = callCLM(params,ix,emulator_path) # m2/m2 (annual maximum LAI)\n",
    "\n",
    "emulator_path = './emulators/gpp_gmean/'\n",
    "gpp = callCLM(params,ix,emulator_path) # PgC/year (annual mean GPP)\n",
    "\n",
    "emulator_path = './emulators/biomass_gmean/'\n",
    "biomass = callCLM(params,ix,emulator_path) # PgC (annual mean biomass)"
   ]
  },
  {
   "cell_type": "code",
   "execution_count": null,
   "id": "d7d338c6-7f6f-47ca-ab77-83a2788a4d25",
   "metadata": {},
   "outputs": [],
   "source": []
  }
 ],
 "metadata": {
  "kernelspec": {
   "display_name": "Python [conda env:mlenv]",
   "language": "python",
   "name": "conda-env-mlenv-py"
  },
  "language_info": {
   "codemirror_mode": {
    "name": "ipython",
    "version": 3
   },
   "file_extension": ".py",
   "mimetype": "text/x-python",
   "name": "python",
   "nbconvert_exporter": "python",
   "pygments_lexer": "ipython3",
   "version": "3.10.16"
  }
 },
 "nbformat": 4,
 "nbformat_minor": 5
}
