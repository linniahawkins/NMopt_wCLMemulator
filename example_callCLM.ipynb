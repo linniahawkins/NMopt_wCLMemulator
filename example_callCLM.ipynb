{
 "cells": [
  {
   "cell_type": "code",
   "execution_count": 2,
   "id": "2ba99753-488e-404d-8fef-4a36c43bfde6",
   "metadata": {},
   "outputs": [
    {
     "name": "stderr",
     "output_type": "stream",
     "text": [
      "2025-02-07 13:01:55.994451: I tensorflow/core/util/port.cc:153] oneDNN custom operations are on. You may see slightly different numerical results due to floating-point round-off errors from different computation orders. To turn them off, set the environment variable `TF_ENABLE_ONEDNN_OPTS=0`.\n",
      "2025-02-07 13:01:56.022798: E external/local_xla/xla/stream_executor/cuda/cuda_fft.cc:477] Unable to register cuFFT factory: Attempting to register factory for plugin cuFFT when one has already been registered\n",
      "WARNING: All log messages before absl::InitializeLog() is called are written to STDERR\n",
      "E0000 00:00:1738958516.065965    3622 cuda_dnn.cc:8310] Unable to register cuDNN factory: Attempting to register factory for plugin cuDNN when one has already been registered\n",
      "E0000 00:00:1738958516.076868    3622 cuda_blas.cc:1418] Unable to register cuBLAS factory: Attempting to register factory for plugin cuBLAS when one has already been registered\n",
      "2025-02-07 13:01:56.119321: I tensorflow/core/platform/cpu_feature_guard.cc:210] This TensorFlow binary is optimized to use available CPU instructions in performance-critical operations.\n",
      "To enable the following instructions: AVX2 AVX512F AVX512_VNNI FMA, in other operations, rebuild TensorFlow with the appropriate compiler flags.\n"
     ]
    }
   ],
   "source": [
    "import numpy as np\n",
    "import tensorflow as tf"
   ]
  },
  {
   "cell_type": "code",
   "execution_count": 3,
   "id": "d6f1b0aa-8bf1-4e87-b543-f2749762ef20",
   "metadata": {},
   "outputs": [],
   "source": [
    "def callCLM(params):\n",
    "\n",
    "    ix = [9,15,24] # Indices of three parameters (jmaxb0,leafcn,slatop)\n",
    "\n",
    "    sample = np.array([0.8737026 , 0.14630213, 0.37171737, 0.27391456, 0.46666708,\n",
    "       0.51924798, 0.46736367, 0.68843046, 0.61951923, 0.07068093,\n",
    "       0.23517169, 0.17849673, 0.83990038, 0.10616273, 0.44688065,\n",
    "       0.57367004, 0.30371528, 0.91975309, 0.71671051, 0.51094701,\n",
    "       0.61565899, 0.26983746, 0.93698915, 0.02468359, 0.05703913,\n",
    "       0.61071442, 0.461464  , 0.11014087, 0.71658162, 0.99813995,\n",
    "       0.19665675, 0.71452042])\n",
    "\n",
    "    sample[ix] = params\n",
    "    \n",
    "    loaded_emulator = tf.saved_model.load('./emulators/laimax_gmean/')\n",
    "    y_pred, y_pred_var = loaded_emulator.predict(sample.reshape(1,-1))\n",
    "    \n",
    "    return y_pred.numpy().flatten()"
   ]
  },
  {
   "cell_type": "code",
   "execution_count": 4,
   "id": "07f2ef04-9fee-4ca3-b95a-2ac97cba135d",
   "metadata": {},
   "outputs": [
    {
     "name": "stderr",
     "output_type": "stream",
     "text": [
      "2025-02-07 13:02:06.494191: E external/local_xla/xla/stream_executor/cuda/cuda_driver.cc:152] failed call to cuInit: INTERNAL: CUDA error: Failed call to cuInit: CUDA_ERROR_NO_DEVICE: no CUDA-capable device is detected\n"
     ]
    }
   ],
   "source": [
    "params = np.random.rand(1, 3)\n",
    "laimax = callCLM(params)"
   ]
  },
  {
   "cell_type": "code",
   "execution_count": null,
   "id": "236a0a23-8581-4ea8-9bda-30e0e988e000",
   "metadata": {},
   "outputs": [],
   "source": []
  }
 ],
 "metadata": {
  "kernelspec": {
   "display_name": "Python [conda env:mlenv]",
   "language": "python",
   "name": "conda-env-mlenv-py"
  },
  "language_info": {
   "codemirror_mode": {
    "name": "ipython",
    "version": 3
   },
   "file_extension": ".py",
   "mimetype": "text/x-python",
   "name": "python",
   "nbconvert_exporter": "python",
   "pygments_lexer": "ipython3",
   "version": "3.10.16"
  }
 },
 "nbformat": 4,
 "nbformat_minor": 5
}
